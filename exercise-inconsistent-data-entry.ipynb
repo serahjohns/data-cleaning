{
 "cells": [
  {
   "cell_type": "markdown",
   "id": "c232fe67",
   "metadata": {
    "papermill": {
     "duration": 0.006467,
     "end_time": "2022-09-14T05:05:09.176138",
     "exception": false,
     "start_time": "2022-09-14T05:05:09.169671",
     "status": "completed"
    },
    "tags": []
   },
   "source": [
    "**This notebook is an exercise in the [Data Cleaning](https://www.kaggle.com/learn/data-cleaning) course.  You can reference the tutorial at [this link](https://www.kaggle.com/alexisbcook/inconsistent-data-entry).**\n",
    "\n",
    "---\n"
   ]
  },
  {
   "cell_type": "markdown",
   "id": "f4a2dd2b",
   "metadata": {
    "papermill": {
     "duration": 0.004824,
     "end_time": "2022-09-14T05:05:09.186301",
     "exception": false,
     "start_time": "2022-09-14T05:05:09.181477",
     "status": "completed"
    },
    "tags": []
   },
   "source": [
    "In this exercise, you'll apply what you learned in the **Inconsistent data entry** tutorial.\n",
    "\n",
    "# Setup\n",
    "\n",
    "The questions below will give you feedback on your work. Run the following cell to set up the feedback system."
   ]
  },
  {
   "cell_type": "code",
   "execution_count": 1,
   "id": "fdf1b418",
   "metadata": {
    "execution": {
     "iopub.execute_input": "2022-09-14T05:05:09.199406Z",
     "iopub.status.busy": "2022-09-14T05:05:09.198414Z",
     "iopub.status.idle": "2022-09-14T05:05:09.313522Z",
     "shell.execute_reply": "2022-09-14T05:05:09.312277Z"
    },
    "papermill": {
     "duration": 0.126057,
     "end_time": "2022-09-14T05:05:09.317625",
     "exception": false,
     "start_time": "2022-09-14T05:05:09.191568",
     "status": "completed"
    },
    "tags": []
   },
   "outputs": [
    {
     "name": "stdout",
     "output_type": "stream",
     "text": [
      "Setup Complete\n"
     ]
    }
   ],
   "source": [
    "from learntools.core import binder\n",
    "binder.bind(globals())\n",
    "from learntools.data_cleaning.ex5 import *\n",
    "print(\"Setup Complete\")"
   ]
  },
  {
   "cell_type": "markdown",
   "id": "9f59dfc5",
   "metadata": {
    "papermill": {
     "duration": 0.005071,
     "end_time": "2022-09-14T05:05:09.328502",
     "exception": false,
     "start_time": "2022-09-14T05:05:09.323431",
     "status": "completed"
    },
    "tags": []
   },
   "source": [
    "# Get our environment set up\n",
    "\n",
    "The first thing we'll need to do is load in the libraries and dataset we'll be using.  We use the same dataset from the tutorial."
   ]
  },
  {
   "cell_type": "code",
   "execution_count": 2,
   "id": "6dc3a7aa",
   "metadata": {
    "execution": {
     "iopub.execute_input": "2022-09-14T05:05:09.340911Z",
     "iopub.status.busy": "2022-09-14T05:05:09.340486Z",
     "iopub.status.idle": "2022-09-14T05:05:09.358050Z",
     "shell.execute_reply": "2022-09-14T05:05:09.356720Z"
    },
    "papermill": {
     "duration": 0.027091,
     "end_time": "2022-09-14T05:05:09.360827",
     "exception": false,
     "start_time": "2022-09-14T05:05:09.333736",
     "status": "completed"
    },
    "tags": []
   },
   "outputs": [],
   "source": [
    "# modules we'll use\n",
    "import pandas as pd\n",
    "import numpy as np\n",
    "\n",
    "# helpful modules\n",
    "import fuzzywuzzy\n",
    "from fuzzywuzzy import process\n",
    "import chardet\n",
    "\n",
    "# read in all our data\n",
    "professors = pd.read_csv(\"../input/pakistan-intellectual-capital/pakistan_intellectual_capital.csv\")\n",
    "\n",
    "# set seed for reproducibility\n",
    "np.random.seed(0)"
   ]
  },
  {
   "cell_type": "markdown",
   "id": "fc629573",
   "metadata": {
    "papermill": {
     "duration": 0.00503,
     "end_time": "2022-09-14T05:05:09.371262",
     "exception": false,
     "start_time": "2022-09-14T05:05:09.366232",
     "status": "completed"
    },
    "tags": []
   },
   "source": [
    "Next, we'll redo all of the work that we did in the tutorial."
   ]
  },
  {
   "cell_type": "code",
   "execution_count": 3,
   "id": "2c13375b",
   "metadata": {
    "execution": {
     "iopub.execute_input": "2022-09-14T05:05:09.383994Z",
     "iopub.status.busy": "2022-09-14T05:05:09.383143Z",
     "iopub.status.idle": "2022-09-14T05:05:09.398990Z",
     "shell.execute_reply": "2022-09-14T05:05:09.397609Z"
    },
    "papermill": {
     "duration": 0.024862,
     "end_time": "2022-09-14T05:05:09.401308",
     "exception": false,
     "start_time": "2022-09-14T05:05:09.376446",
     "status": "completed"
    },
    "tags": []
   },
   "outputs": [
    {
     "name": "stdout",
     "output_type": "stream",
     "text": [
      "All done!\n"
     ]
    }
   ],
   "source": [
    "# convert to lower case\n",
    "professors['Country'] = professors['Country'].str.lower()\n",
    "# remove trailing white spaces\n",
    "professors['Country'] = professors['Country'].str.strip()\n",
    "\n",
    "# get the top 10 closest matches to \"south korea\"\n",
    "countries = professors['Country'].unique()\n",
    "matches = fuzzywuzzy.process.extract(\"south korea\", countries, limit=10, scorer=fuzzywuzzy.fuzz.token_sort_ratio)\n",
    "\n",
    "def replace_matches_in_column(df, column, string_to_match, min_ratio = 47):\n",
    "    # get a list of unique strings\n",
    "    strings = df[column].unique()\n",
    "    \n",
    "    # get the top 10 closest matches to our input string\n",
    "    matches = fuzzywuzzy.process.extract(string_to_match, strings, \n",
    "                                         limit=10, scorer=fuzzywuzzy.fuzz.token_sort_ratio)\n",
    "\n",
    "    # only get matches with a ratio > 90\n",
    "    close_matches = [matches[0] for matches in matches if matches[1] >= min_ratio]\n",
    "\n",
    "    # get the rows of all the close matches in our dataframe\n",
    "    rows_with_matches = df[column].isin(close_matches)\n",
    "\n",
    "    # replace all rows with close matches with the input matches \n",
    "    df.loc[rows_with_matches, column] = string_to_match\n",
    "    \n",
    "    # let us know the function's done\n",
    "    print(\"All done!\")\n",
    "    \n",
    "replace_matches_in_column(df=professors, column='Country', string_to_match=\"south korea\")\n",
    "countries = professors['Country'].unique()"
   ]
  },
  {
   "cell_type": "markdown",
   "id": "9b79505e",
   "metadata": {
    "papermill": {
     "duration": 0.005292,
     "end_time": "2022-09-14T05:05:09.412068",
     "exception": false,
     "start_time": "2022-09-14T05:05:09.406776",
     "status": "completed"
    },
    "tags": []
   },
   "source": [
    "# 1) Examine another column\n",
    "\n",
    "Write code below to take a look at all the unique values in the \"Graduated from\" column."
   ]
  },
  {
   "cell_type": "code",
   "execution_count": 4,
   "id": "e6f4b229",
   "metadata": {
    "execution": {
     "iopub.execute_input": "2022-09-14T05:05:09.425121Z",
     "iopub.status.busy": "2022-09-14T05:05:09.424007Z",
     "iopub.status.idle": "2022-09-14T05:05:09.430501Z",
     "shell.execute_reply": "2022-09-14T05:05:09.429235Z"
    },
    "papermill": {
     "duration": 0.015296,
     "end_time": "2022-09-14T05:05:09.432693",
     "exception": false,
     "start_time": "2022-09-14T05:05:09.417397",
     "status": "completed"
    },
    "tags": []
   },
   "outputs": [],
   "source": [
    "# TODO: Your code here\n",
    "unis=professors['Graduated from'].unique()"
   ]
  },
  {
   "cell_type": "markdown",
   "id": "8151a71f",
   "metadata": {
    "papermill": {
     "duration": 0.005102,
     "end_time": "2022-09-14T05:05:09.443176",
     "exception": false,
     "start_time": "2022-09-14T05:05:09.438074",
     "status": "completed"
    },
    "tags": []
   },
   "source": [
    "Do you notice any inconsistencies in the data?  Can any of the inconsistencies in the data be fixed by removing white spaces at the beginning and end of cells?\n",
    "\n",
    "Once you have answered these questions, run the code cell below to get credit for your work."
   ]
  },
  {
   "cell_type": "code",
   "execution_count": 5,
   "id": "c3af1b7b",
   "metadata": {
    "execution": {
     "iopub.execute_input": "2022-09-14T05:05:09.456312Z",
     "iopub.status.busy": "2022-09-14T05:05:09.455692Z",
     "iopub.status.idle": "2022-09-14T05:05:09.464896Z",
     "shell.execute_reply": "2022-09-14T05:05:09.463976Z"
    },
    "papermill": {
     "duration": 0.018381,
     "end_time": "2022-09-14T05:05:09.467016",
     "exception": false,
     "start_time": "2022-09-14T05:05:09.448635",
     "status": "completed"
    },
    "tags": []
   },
   "outputs": [
    {
     "data": {
      "application/javascript": [
       "parent.postMessage({\"jupyterEvent\": \"custom.exercise_interaction\", \"data\": {\"outcomeType\": 1, \"valueTowardsCompletion\": 0.3333333333333333, \"interactionType\": 1, \"questionType\": 4, \"questionId\": \"1_ExamineProvince\", \"learnToolsVersion\": \"0.3.4\", \"failureMessage\": \"\", \"exceptionClass\": \"\", \"trace\": \"\"}}, \"*\")"
      ],
      "text/plain": [
       "<IPython.core.display.Javascript object>"
      ]
     },
     "metadata": {},
     "output_type": "display_data"
    },
    {
     "data": {
      "text/markdown": [
       "<span style=\"color:#33cc33\">Correct:</span> \n",
       "\n",
       "There are inconsistencies that can be fixed by removing white spaces at the beginning and end of cells.  For instance, \"University of Central Florida\" and \" University of Central Florida\" both appear in the column."
      ],
      "text/plain": [
       "Correct: \n",
       "\n",
       "There are inconsistencies that can be fixed by removing white spaces at the beginning and end of cells.  For instance, \"University of Central Florida\" and \" University of Central Florida\" both appear in the column."
      ]
     },
     "metadata": {},
     "output_type": "display_data"
    }
   ],
   "source": [
    "# Check your answer (Run this code cell to receive credit!)\n",
    "q1.check()"
   ]
  },
  {
   "cell_type": "code",
   "execution_count": 6,
   "id": "09b31159",
   "metadata": {
    "execution": {
     "iopub.execute_input": "2022-09-14T05:05:09.480469Z",
     "iopub.status.busy": "2022-09-14T05:05:09.479836Z",
     "iopub.status.idle": "2022-09-14T05:05:09.487374Z",
     "shell.execute_reply": "2022-09-14T05:05:09.486476Z"
    },
    "papermill": {
     "duration": 0.016802,
     "end_time": "2022-09-14T05:05:09.489508",
     "exception": false,
     "start_time": "2022-09-14T05:05:09.472706",
     "status": "completed"
    },
    "tags": []
   },
   "outputs": [
    {
     "data": {
      "application/javascript": [
       "parent.postMessage({\"jupyterEvent\": \"custom.exercise_interaction\", \"data\": {\"interactionType\": 2, \"questionType\": 4, \"questionId\": \"1_ExamineProvince\", \"learnToolsVersion\": \"0.3.4\", \"valueTowardsCompletion\": 0.0, \"failureMessage\": \"\", \"exceptionClass\": \"\", \"trace\": \"\", \"outcomeType\": 4}}, \"*\")"
      ],
      "text/plain": [
       "<IPython.core.display.Javascript object>"
      ]
     },
     "metadata": {},
     "output_type": "display_data"
    },
    {
     "data": {
      "text/markdown": [
       "<span style=\"color:#3366cc\">Hint:</span> Use `unis = professors['Graduated from'].unique()` to take a look at the unique values in the 'Graduated from' column. You may find it useful to sort the data before printing it."
      ],
      "text/plain": [
       "Hint: Use `unis = professors['Graduated from'].unique()` to take a look at the unique values in the 'Graduated from' column. You may find it useful to sort the data before printing it."
      ]
     },
     "metadata": {},
     "output_type": "display_data"
    }
   ],
   "source": [
    "# Line below will give you a hint\n",
    "q1.hint()"
   ]
  },
  {
   "cell_type": "markdown",
   "id": "e4924af7",
   "metadata": {
    "papermill": {
     "duration": 0.005471,
     "end_time": "2022-09-14T05:05:09.500951",
     "exception": false,
     "start_time": "2022-09-14T05:05:09.495480",
     "status": "completed"
    },
    "tags": []
   },
   "source": [
    "# 2) Do some text pre-processing\n",
    "\n",
    "Convert every entry in the \"Graduated from\" column in the `professors` DataFrame to remove white spaces at the beginning and end of cells."
   ]
  },
  {
   "cell_type": "code",
   "execution_count": 7,
   "id": "586deb5f",
   "metadata": {
    "execution": {
     "iopub.execute_input": "2022-09-14T05:05:09.514675Z",
     "iopub.status.busy": "2022-09-14T05:05:09.514067Z",
     "iopub.status.idle": "2022-09-14T05:05:09.526290Z",
     "shell.execute_reply": "2022-09-14T05:05:09.525409Z"
    },
    "papermill": {
     "duration": 0.021615,
     "end_time": "2022-09-14T05:05:09.528352",
     "exception": false,
     "start_time": "2022-09-14T05:05:09.506737",
     "status": "completed"
    },
    "tags": []
   },
   "outputs": [
    {
     "data": {
      "application/javascript": [
       "parent.postMessage({\"jupyterEvent\": \"custom.exercise_interaction\", \"data\": {\"outcomeType\": 1, \"valueTowardsCompletion\": 0.3333333333333333, \"interactionType\": 1, \"questionType\": 1, \"questionId\": \"2_TextProcessing\", \"learnToolsVersion\": \"0.3.4\", \"failureMessage\": \"\", \"exceptionClass\": \"\", \"trace\": \"\"}}, \"*\")"
      ],
      "text/plain": [
       "<IPython.core.display.Javascript object>"
      ]
     },
     "metadata": {},
     "output_type": "display_data"
    },
    {
     "data": {
      "text/markdown": [
       "<span style=\"color:#33cc33\">Correct</span>"
      ],
      "text/plain": [
       "Correct"
      ]
     },
     "metadata": {},
     "output_type": "display_data"
    }
   ],
   "source": [
    "# TODO: Your code here\n",
    "professors['Graduated from']= professors['Graduated from'].str.strip()\n",
    "\n",
    "# Check your answer\n",
    "q2.check()"
   ]
  },
  {
   "cell_type": "code",
   "execution_count": 8,
   "id": "a0bb0303",
   "metadata": {
    "execution": {
     "iopub.execute_input": "2022-09-14T05:05:09.543047Z",
     "iopub.status.busy": "2022-09-14T05:05:09.542400Z",
     "iopub.status.idle": "2022-09-14T05:05:09.555416Z",
     "shell.execute_reply": "2022-09-14T05:05:09.554248Z"
    },
    "papermill": {
     "duration": 0.023353,
     "end_time": "2022-09-14T05:05:09.557794",
     "exception": false,
     "start_time": "2022-09-14T05:05:09.534441",
     "status": "completed"
    },
    "tags": []
   },
   "outputs": [
    {
     "data": {
      "application/javascript": [
       "parent.postMessage({\"jupyterEvent\": \"custom.exercise_interaction\", \"data\": {\"interactionType\": 2, \"questionType\": 1, \"questionId\": \"2_TextProcessing\", \"learnToolsVersion\": \"0.3.4\", \"valueTowardsCompletion\": 0.0, \"failureMessage\": \"\", \"exceptionClass\": \"\", \"trace\": \"\", \"outcomeType\": 4}}, \"*\")"
      ],
      "text/plain": [
       "<IPython.core.display.Javascript object>"
      ]
     },
     "metadata": {},
     "output_type": "display_data"
    },
    {
     "data": {
      "text/markdown": [
       "<span style=\"color:#3366cc\">Hint:</span> In the tutorial, you did the same operation on a different column."
      ],
      "text/plain": [
       "Hint: In the tutorial, you did the same operation on a different column."
      ]
     },
     "metadata": {},
     "output_type": "display_data"
    },
    {
     "data": {
      "application/javascript": [
       "parent.postMessage({\"jupyterEvent\": \"custom.exercise_interaction\", \"data\": {\"interactionType\": 3, \"questionType\": 1, \"questionId\": \"2_TextProcessing\", \"learnToolsVersion\": \"0.3.4\", \"valueTowardsCompletion\": 0.0, \"failureMessage\": \"\", \"exceptionClass\": \"\", \"trace\": \"\", \"outcomeType\": 4}}, \"*\")"
      ],
      "text/plain": [
       "<IPython.core.display.Javascript object>"
      ]
     },
     "metadata": {},
     "output_type": "display_data"
    },
    {
     "data": {
      "text/markdown": [
       "<span style=\"color:#33cc99\">Solution:</span> \n",
       "```python\n",
       "professors['Graduated from'] = professors['Graduated from'].str.strip()\n",
       "\n",
       "```"
      ],
      "text/plain": [
       "Solution: \n",
       "```python\n",
       "professors['Graduated from'] = professors['Graduated from'].str.strip()\n",
       "\n",
       "```"
      ]
     },
     "metadata": {},
     "output_type": "display_data"
    }
   ],
   "source": [
    "# Lines below will give you a hint or solution code\n",
    "q2.hint()\n",
    "q2.solution()"
   ]
  },
  {
   "cell_type": "markdown",
   "id": "4672cec7",
   "metadata": {
    "papermill": {
     "duration": 0.006281,
     "end_time": "2022-09-14T05:05:09.572035",
     "exception": false,
     "start_time": "2022-09-14T05:05:09.565754",
     "status": "completed"
    },
    "tags": []
   },
   "source": [
    "# 3) Continue working with countries\n",
    "\n",
    "In the tutorial, we focused on cleaning up inconsistencies in the \"Country\" column.  Run the code cell below to view the list of unique values that we ended with."
   ]
  },
  {
   "cell_type": "code",
   "execution_count": 9,
   "id": "babae1a2",
   "metadata": {
    "execution": {
     "iopub.execute_input": "2022-09-14T05:05:09.588431Z",
     "iopub.status.busy": "2022-09-14T05:05:09.587119Z",
     "iopub.status.idle": "2022-09-14T05:05:09.595958Z",
     "shell.execute_reply": "2022-09-14T05:05:09.595019Z"
    },
    "papermill": {
     "duration": 0.018809,
     "end_time": "2022-09-14T05:05:09.598163",
     "exception": false,
     "start_time": "2022-09-14T05:05:09.579354",
     "status": "completed"
    },
    "tags": []
   },
   "outputs": [
    {
     "data": {
      "text/plain": [
       "array(['australia', 'austria', 'canada', 'china', 'finland', 'france',\n",
       "       'germany', 'greece', 'hongkong', 'ireland', 'italy', 'japan',\n",
       "       'macau', 'malaysia', 'mauritius', 'netherland', 'new zealand',\n",
       "       'norway', 'pakistan', 'portugal', 'russian federation',\n",
       "       'saudi arabia', 'scotland', 'singapore', 'south korea', 'spain',\n",
       "       'sweden', 'thailand', 'turkey', 'uk', 'urbana', 'usa', 'usofa'],\n",
       "      dtype=object)"
      ]
     },
     "execution_count": 9,
     "metadata": {},
     "output_type": "execute_result"
    }
   ],
   "source": [
    "# get all the unique values in the 'City' column\n",
    "countries = professors['Country'].unique()\n",
    "\n",
    "# sort them alphabetically and then take a closer look\n",
    "countries.sort()\n",
    "countries"
   ]
  },
  {
   "cell_type": "markdown",
   "id": "1c9007a3",
   "metadata": {
    "papermill": {
     "duration": 0.006323,
     "end_time": "2022-09-14T05:05:09.611064",
     "exception": false,
     "start_time": "2022-09-14T05:05:09.604741",
     "status": "completed"
    },
    "tags": []
   },
   "source": [
    "Take another look at the \"Country\" column and see if there's any more data cleaning we need to do.\n",
    "\n",
    "It looks like 'usa' and 'usofa' should be the same country.  Correct the \"Country\" column in the dataframe to replace 'usofa' with 'usa'.\n",
    "\n",
    "**Use the most recent version of the DataFrame (with the whitespaces at the beginning and end of cells removed) from question 2.**"
   ]
  },
  {
   "cell_type": "code",
   "execution_count": 10,
   "id": "9a38d329",
   "metadata": {
    "execution": {
     "iopub.execute_input": "2022-09-14T05:05:09.626540Z",
     "iopub.status.busy": "2022-09-14T05:05:09.625923Z",
     "iopub.status.idle": "2022-09-14T05:05:09.639051Z",
     "shell.execute_reply": "2022-09-14T05:05:09.638099Z"
    },
    "papermill": {
     "duration": 0.025314,
     "end_time": "2022-09-14T05:05:09.642927",
     "exception": false,
     "start_time": "2022-09-14T05:05:09.617613",
     "status": "completed"
    },
    "tags": []
   },
   "outputs": [
    {
     "name": "stdout",
     "output_type": "stream",
     "text": [
      "All done!\n"
     ]
    },
    {
     "data": {
      "application/javascript": [
       "parent.postMessage({\"jupyterEvent\": \"custom.exercise_interaction\", \"data\": {\"outcomeType\": 1, \"valueTowardsCompletion\": 0.3333333333333333, \"interactionType\": 1, \"questionType\": 1, \"questionId\": \"3_WorkingWithCities\", \"learnToolsVersion\": \"0.3.4\", \"failureMessage\": \"\", \"exceptionClass\": \"\", \"trace\": \"\"}}, \"*\")"
      ],
      "text/plain": [
       "<IPython.core.display.Javascript object>"
      ]
     },
     "metadata": {},
     "output_type": "display_data"
    },
    {
     "data": {
      "text/markdown": [
       "<span style=\"color:#33cc33\">Correct</span>"
      ],
      "text/plain": [
       "Correct"
      ]
     },
     "metadata": {},
     "output_type": "display_data"
    }
   ],
   "source": [
    "# TODO: Your code here\n",
    "\n",
    "matches = fuzzywuzzy.process.extract(\"usa\", countries, limit=10, scorer=fuzzywuzzy.fuzz.token_sort_ratio)\n",
    "replace_matches_in_column(df=professors, column='Country', string_to_match=\"usa\", min_ratio=70)\n",
    "\n",
    "# Check your answer\n",
    "q3.check()"
   ]
  },
  {
   "cell_type": "code",
   "execution_count": 11,
   "id": "481ac0fc",
   "metadata": {
    "execution": {
     "iopub.execute_input": "2022-09-14T05:05:09.659081Z",
     "iopub.status.busy": "2022-09-14T05:05:09.658561Z",
     "iopub.status.idle": "2022-09-14T05:05:09.671050Z",
     "shell.execute_reply": "2022-09-14T05:05:09.669904Z"
    },
    "papermill": {
     "duration": 0.023341,
     "end_time": "2022-09-14T05:05:09.673366",
     "exception": false,
     "start_time": "2022-09-14T05:05:09.650025",
     "status": "completed"
    },
    "tags": []
   },
   "outputs": [
    {
     "data": {
      "application/javascript": [
       "parent.postMessage({\"jupyterEvent\": \"custom.exercise_interaction\", \"data\": {\"interactionType\": 2, \"questionType\": 1, \"questionId\": \"3_WorkingWithCities\", \"learnToolsVersion\": \"0.3.4\", \"valueTowardsCompletion\": 0.0, \"failureMessage\": \"\", \"exceptionClass\": \"\", \"trace\": \"\", \"outcomeType\": 4}}, \"*\")"
      ],
      "text/plain": [
       "<IPython.core.display.Javascript object>"
      ]
     },
     "metadata": {},
     "output_type": "display_data"
    },
    {
     "data": {
      "text/markdown": [
       "<span style=\"color:#3366cc\">Hint:</span> Use the `replace_matches_in_column()` function defined above."
      ],
      "text/plain": [
       "Hint: Use the `replace_matches_in_column()` function defined above."
      ]
     },
     "metadata": {},
     "output_type": "display_data"
    },
    {
     "data": {
      "application/javascript": [
       "parent.postMessage({\"jupyterEvent\": \"custom.exercise_interaction\", \"data\": {\"interactionType\": 3, \"questionType\": 1, \"questionId\": \"3_WorkingWithCities\", \"learnToolsVersion\": \"0.3.4\", \"valueTowardsCompletion\": 0.0, \"failureMessage\": \"\", \"exceptionClass\": \"\", \"trace\": \"\", \"outcomeType\": 4}}, \"*\")"
      ],
      "text/plain": [
       "<IPython.core.display.Javascript object>"
      ]
     },
     "metadata": {},
     "output_type": "display_data"
    },
    {
     "data": {
      "text/markdown": [
       "<span style=\"color:#33cc99\">Solution:</span> \n",
       "```python\n",
       "matches = fuzzywuzzy.process.extract(\"usa\", countries, limit=10, scorer=fuzzywuzzy.fuzz.token_sort_ratio)\n",
       "replace_matches_in_column(df=professors, column='Country', string_to_match=\"usa\", min_ratio=70)\n",
       "\n",
       "```"
      ],
      "text/plain": [
       "Solution: \n",
       "```python\n",
       "matches = fuzzywuzzy.process.extract(\"usa\", countries, limit=10, scorer=fuzzywuzzy.fuzz.token_sort_ratio)\n",
       "replace_matches_in_column(df=professors, column='Country', string_to_match=\"usa\", min_ratio=70)\n",
       "\n",
       "```"
      ]
     },
     "metadata": {},
     "output_type": "display_data"
    }
   ],
   "source": [
    "# Lines below will give you a hint or solution code\n",
    "q3.hint()\n",
    "q3.solution()"
   ]
  },
  {
   "cell_type": "markdown",
   "id": "6083b076",
   "metadata": {
    "papermill": {
     "duration": 0.007228,
     "end_time": "2022-09-14T05:05:09.687935",
     "exception": false,
     "start_time": "2022-09-14T05:05:09.680707",
     "status": "completed"
    },
    "tags": []
   },
   "source": [
    "# Congratulations!\n",
    "\n",
    "Congratulations for completing the **Data Cleaning** course on Kaggle Learn!\n",
    "\n",
    "To practice your new skills, you're encouraged to download and investigate some of [Kaggle's Datasets](https://www.kaggle.com/datasets)."
   ]
  },
  {
   "cell_type": "markdown",
   "id": "b90a1c29",
   "metadata": {
    "papermill": {
     "duration": 0.007104,
     "end_time": "2022-09-14T05:05:09.702416",
     "exception": false,
     "start_time": "2022-09-14T05:05:09.695312",
     "status": "completed"
    },
    "tags": []
   },
   "source": [
    "---\n",
    "\n",
    "\n",
    "\n",
    "\n",
    "*Have questions or comments? Visit the [course discussion forum](https://www.kaggle.com/learn/data-cleaning/discussion) to chat with other learners.*"
   ]
  }
 ],
 "metadata": {
  "kernelspec": {
   "display_name": "Python 3",
   "language": "python",
   "name": "python3"
  },
  "language_info": {
   "codemirror_mode": {
    "name": "ipython",
    "version": 3
   },
   "file_extension": ".py",
   "mimetype": "text/x-python",
   "name": "python",
   "nbconvert_exporter": "python",
   "pygments_lexer": "ipython3",
   "version": "3.7.12"
  },
  "papermill": {
   "default_parameters": {},
   "duration": 10.496959,
   "end_time": "2022-09-14T05:05:10.333226",
   "environment_variables": {},
   "exception": null,
   "input_path": "__notebook__.ipynb",
   "output_path": "__notebook__.ipynb",
   "parameters": {},
   "start_time": "2022-09-14T05:04:59.836267",
   "version": "2.3.4"
  }
 },
 "nbformat": 4,
 "nbformat_minor": 5
}
