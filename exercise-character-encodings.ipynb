{
 "cells": [
  {
   "cell_type": "markdown",
   "id": "f3d4d004",
   "metadata": {
    "papermill": {
     "duration": 0.006487,
     "end_time": "2022-09-13T08:38:54.853479",
     "exception": false,
     "start_time": "2022-09-13T08:38:54.846992",
     "status": "completed"
    },
    "tags": []
   },
   "source": [
    "**This notebook is an exercise in the [Data Cleaning](https://www.kaggle.com/learn/data-cleaning) course.  You can reference the tutorial at [this link](https://www.kaggle.com/alexisbcook/character-encodings).**\n",
    "\n",
    "---\n"
   ]
  },
  {
   "cell_type": "markdown",
   "id": "8b1bd4ff",
   "metadata": {
    "papermill": {
     "duration": 0.004453,
     "end_time": "2022-09-13T08:38:54.863009",
     "exception": false,
     "start_time": "2022-09-13T08:38:54.858556",
     "status": "completed"
    },
    "tags": []
   },
   "source": [
    "In this exercise, you'll apply what you learned in the **Character encodings** tutorial.\n",
    "\n",
    "# Setup\n",
    "\n",
    "The questions below will give you feedback on your work. Run the following cell to set up the feedback system."
   ]
  },
  {
   "cell_type": "code",
   "execution_count": 1,
   "id": "a9764a85",
   "metadata": {
    "execution": {
     "iopub.execute_input": "2022-09-13T08:38:54.874003Z",
     "iopub.status.busy": "2022-09-13T08:38:54.873520Z",
     "iopub.status.idle": "2022-09-13T08:38:54.957440Z",
     "shell.execute_reply": "2022-09-13T08:38:54.956181Z"
    },
    "papermill": {
     "duration": 0.092684,
     "end_time": "2022-09-13T08:38:54.960288",
     "exception": false,
     "start_time": "2022-09-13T08:38:54.867604",
     "status": "completed"
    },
    "tags": []
   },
   "outputs": [
    {
     "name": "stdout",
     "output_type": "stream",
     "text": [
      "Setup Complete\n"
     ]
    }
   ],
   "source": [
    "from learntools.core import binder\n",
    "binder.bind(globals())\n",
    "from learntools.data_cleaning.ex4 import *\n",
    "print(\"Setup Complete\")"
   ]
  },
  {
   "cell_type": "markdown",
   "id": "64c6f482",
   "metadata": {
    "papermill": {
     "duration": 0.004619,
     "end_time": "2022-09-13T08:38:54.969968",
     "exception": false,
     "start_time": "2022-09-13T08:38:54.965349",
     "status": "completed"
    },
    "tags": []
   },
   "source": [
    "# Get our environment set up\n",
    "\n",
    "The first thing we'll need to do is load in the libraries we'll be using."
   ]
  },
  {
   "cell_type": "code",
   "execution_count": 2,
   "id": "9dc9dfff",
   "metadata": {
    "execution": {
     "iopub.execute_input": "2022-09-13T08:38:54.981549Z",
     "iopub.status.busy": "2022-09-13T08:38:54.980832Z",
     "iopub.status.idle": "2022-09-13T08:38:54.987146Z",
     "shell.execute_reply": "2022-09-13T08:38:54.986024Z"
    },
    "papermill": {
     "duration": 0.014679,
     "end_time": "2022-09-13T08:38:54.989438",
     "exception": false,
     "start_time": "2022-09-13T08:38:54.974759",
     "status": "completed"
    },
    "tags": []
   },
   "outputs": [],
   "source": [
    "# modules we'll use\n",
    "import pandas as pd\n",
    "import numpy as np\n",
    "\n",
    "# helpful character encoding module\n",
    "import chardet\n",
    "\n",
    "# set seed for reproducibility\n",
    "np.random.seed(0)"
   ]
  },
  {
   "cell_type": "markdown",
   "id": "65646516",
   "metadata": {
    "papermill": {
     "duration": 0.004743,
     "end_time": "2022-09-13T08:38:54.998991",
     "exception": false,
     "start_time": "2022-09-13T08:38:54.994248",
     "status": "completed"
    },
    "tags": []
   },
   "source": [
    "# 1) What are encodings?\n",
    "\n",
    "You're working with a dataset composed of bytes.  Run the code cell below to print a sample entry."
   ]
  },
  {
   "cell_type": "code",
   "execution_count": 3,
   "id": "029f1986",
   "metadata": {
    "execution": {
     "iopub.execute_input": "2022-09-13T08:38:55.010460Z",
     "iopub.status.busy": "2022-09-13T08:38:55.010077Z",
     "iopub.status.idle": "2022-09-13T08:38:55.015639Z",
     "shell.execute_reply": "2022-09-13T08:38:55.014622Z"
    },
    "papermill": {
     "duration": 0.015503,
     "end_time": "2022-09-13T08:38:55.019301",
     "exception": false,
     "start_time": "2022-09-13T08:38:55.003798",
     "status": "completed"
    },
    "tags": []
   },
   "outputs": [
    {
     "name": "stdout",
     "output_type": "stream",
     "text": [
      "b'\\xa7A\\xa6n'\n",
      "data type: <class 'bytes'>\n"
     ]
    }
   ],
   "source": [
    "sample_entry = b'\\xa7A\\xa6n'\n",
    "print(sample_entry)\n",
    "print('data type:', type(sample_entry))"
   ]
  },
  {
   "cell_type": "markdown",
   "id": "423c0369",
   "metadata": {
    "papermill": {
     "duration": 0.004904,
     "end_time": "2022-09-13T08:38:55.029922",
     "exception": false,
     "start_time": "2022-09-13T08:38:55.025018",
     "status": "completed"
    },
    "tags": []
   },
   "source": [
    "You notice that it doesn't use the standard UTF-8 encoding. \n",
    "\n",
    "Use the next code cell to create a variable `new_entry` that changes the encoding from `\"big5-tw\"` to `\"utf-8\"`.  `new_entry` should have the bytes datatype."
   ]
  },
  {
   "cell_type": "code",
   "execution_count": 4,
   "id": "a5aaaec8",
   "metadata": {
    "execution": {
     "iopub.execute_input": "2022-09-13T08:38:55.042034Z",
     "iopub.status.busy": "2022-09-13T08:38:55.041235Z",
     "iopub.status.idle": "2022-09-13T08:38:55.052829Z",
     "shell.execute_reply": "2022-09-13T08:38:55.051942Z"
    },
    "papermill": {
     "duration": 0.020191,
     "end_time": "2022-09-13T08:38:55.055047",
     "exception": false,
     "start_time": "2022-09-13T08:38:55.034856",
     "status": "completed"
    },
    "tags": []
   },
   "outputs": [
    {
     "data": {
      "application/javascript": [
       "parent.postMessage({\"jupyterEvent\": \"custom.exercise_interaction\", \"data\": {\"outcomeType\": 1, \"valueTowardsCompletion\": 0.3333333333333333, \"interactionType\": 1, \"questionType\": 1, \"questionId\": \"1_EncodingsIntro\", \"learnToolsVersion\": \"0.3.4\", \"failureMessage\": \"\", \"exceptionClass\": \"\", \"trace\": \"\"}}, \"*\")"
      ],
      "text/plain": [
       "<IPython.core.display.Javascript object>"
      ]
     },
     "metadata": {},
     "output_type": "display_data"
    },
    {
     "data": {
      "text/markdown": [
       "<span style=\"color:#33cc33\">Correct</span>"
      ],
      "text/plain": [
       "Correct"
      ]
     },
     "metadata": {},
     "output_type": "display_data"
    }
   ],
   "source": [
    "\n",
    "before = sample_entry.decode(\"big5-tw\")\n",
    "new_entry = before.encode()\n",
    "# Check your answer\n",
    "q1.check()"
   ]
  },
  {
   "cell_type": "code",
   "execution_count": 5,
   "id": "bae38c07",
   "metadata": {
    "execution": {
     "iopub.execute_input": "2022-09-13T08:38:55.067473Z",
     "iopub.status.busy": "2022-09-13T08:38:55.066692Z",
     "iopub.status.idle": "2022-09-13T08:38:55.079748Z",
     "shell.execute_reply": "2022-09-13T08:38:55.078617Z"
    },
    "papermill": {
     "duration": 0.02199,
     "end_time": "2022-09-13T08:38:55.082115",
     "exception": false,
     "start_time": "2022-09-13T08:38:55.060125",
     "status": "completed"
    },
    "tags": []
   },
   "outputs": [
    {
     "data": {
      "application/javascript": [
       "parent.postMessage({\"jupyterEvent\": \"custom.exercise_interaction\", \"data\": {\"interactionType\": 2, \"questionType\": 1, \"questionId\": \"1_EncodingsIntro\", \"learnToolsVersion\": \"0.3.4\", \"valueTowardsCompletion\": 0.0, \"failureMessage\": \"\", \"exceptionClass\": \"\", \"trace\": \"\", \"outcomeType\": 4}}, \"*\")"
      ],
      "text/plain": [
       "<IPython.core.display.Javascript object>"
      ]
     },
     "metadata": {},
     "output_type": "display_data"
    },
    {
     "data": {
      "text/markdown": [
       "<span style=\"color:#3366cc\">Hint:</span> Try using `.decode()` to get the string, then `.encode()` to get the bytes representation, encoded in UTF-8."
      ],
      "text/plain": [
       "Hint: Try using `.decode()` to get the string, then `.encode()` to get the bytes representation, encoded in UTF-8."
      ]
     },
     "metadata": {},
     "output_type": "display_data"
    },
    {
     "data": {
      "application/javascript": [
       "parent.postMessage({\"jupyterEvent\": \"custom.exercise_interaction\", \"data\": {\"interactionType\": 3, \"questionType\": 1, \"questionId\": \"1_EncodingsIntro\", \"learnToolsVersion\": \"0.3.4\", \"valueTowardsCompletion\": 0.0, \"failureMessage\": \"\", \"exceptionClass\": \"\", \"trace\": \"\", \"outcomeType\": 4}}, \"*\")"
      ],
      "text/plain": [
       "<IPython.core.display.Javascript object>"
      ]
     },
     "metadata": {},
     "output_type": "display_data"
    },
    {
     "data": {
      "text/markdown": [
       "<span style=\"color:#33cc99\">Solution:</span> \n",
       "```python\n",
       "before = sample_entry.decode(\"big5-tw\")\n",
       "new_entry = before.encode()\n",
       "\n",
       "```"
      ],
      "text/plain": [
       "Solution: \n",
       "```python\n",
       "before = sample_entry.decode(\"big5-tw\")\n",
       "new_entry = before.encode()\n",
       "\n",
       "```"
      ]
     },
     "metadata": {},
     "output_type": "display_data"
    }
   ],
   "source": [
    "# Lines below will give you a hint or solution code\n",
    "q1.hint()\n",
    "q1.solution()"
   ]
  },
  {
   "cell_type": "markdown",
   "id": "68f47a30",
   "metadata": {
    "papermill": {
     "duration": 0.006804,
     "end_time": "2022-09-13T08:38:55.094490",
     "exception": false,
     "start_time": "2022-09-13T08:38:55.087686",
     "status": "completed"
    },
    "tags": []
   },
   "source": [
    "# 2) Reading in files with encoding problems\n",
    "\n",
    "Use the code cell below to read in this file at path `\"../input/fatal-police-shootings-in-the-us/PoliceKillingsUS.csv\"`.  \n",
    "\n",
    "Figure out what the correct encoding should be and read in the file to a DataFrame `police_killings`."
   ]
  },
  {
   "cell_type": "code",
   "execution_count": 6,
   "id": "a2002f6c",
   "metadata": {
    "execution": {
     "iopub.execute_input": "2022-09-13T08:38:55.111577Z",
     "iopub.status.busy": "2022-09-13T08:38:55.111025Z",
     "iopub.status.idle": "2022-09-13T08:38:55.139185Z",
     "shell.execute_reply": "2022-09-13T08:38:55.138228Z"
    },
    "papermill": {
     "duration": 0.040661,
     "end_time": "2022-09-13T08:38:55.142183",
     "exception": false,
     "start_time": "2022-09-13T08:38:55.101522",
     "status": "completed"
    },
    "tags": []
   },
   "outputs": [
    {
     "data": {
      "application/javascript": [
       "parent.postMessage({\"jupyterEvent\": \"custom.exercise_interaction\", \"data\": {\"outcomeType\": 1, \"valueTowardsCompletion\": 0.3333333333333333, \"interactionType\": 1, \"questionType\": 1, \"questionId\": \"2_ReadIn\", \"learnToolsVersion\": \"0.3.4\", \"failureMessage\": \"\", \"exceptionClass\": \"\", \"trace\": \"\"}}, \"*\")"
      ],
      "text/plain": [
       "<IPython.core.display.Javascript object>"
      ]
     },
     "metadata": {},
     "output_type": "display_data"
    },
    {
     "data": {
      "text/markdown": [
       "<span style=\"color:#33cc33\">Correct</span>"
      ],
      "text/plain": [
       "Correct"
      ]
     },
     "metadata": {},
     "output_type": "display_data"
    }
   ],
   "source": [
    "# TODO: Load in the DataFrame correctly.\n",
    "police_killings = pd.read_csv(\"../input/fatal-police-shootings-in-the-us/PoliceKillingsUS.csv\", encoding='windows-1252')\n",
    "\n",
    "# Check your answer\n",
    "q2.check()"
   ]
  },
  {
   "cell_type": "markdown",
   "id": "d3ff0014",
   "metadata": {
    "papermill": {
     "duration": 0.005743,
     "end_time": "2022-09-13T08:38:55.155025",
     "exception": false,
     "start_time": "2022-09-13T08:38:55.149282",
     "status": "completed"
    },
    "tags": []
   },
   "source": [
    "Feel free to use any additional code cells for supplemental work.  To get credit for finishing this question, you'll need to run `q2.check()` and get a result of **Correct**."
   ]
  },
  {
   "cell_type": "code",
   "execution_count": 7,
   "id": "96aa08a5",
   "metadata": {
    "execution": {
     "iopub.execute_input": "2022-09-13T08:38:55.170297Z",
     "iopub.status.busy": "2022-09-13T08:38:55.169344Z",
     "iopub.status.idle": "2022-09-13T08:38:55.186564Z",
     "shell.execute_reply": "2022-09-13T08:38:55.184774Z"
    },
    "papermill": {
     "duration": 0.026928,
     "end_time": "2022-09-13T08:38:55.188972",
     "exception": false,
     "start_time": "2022-09-13T08:38:55.162044",
     "status": "completed"
    },
    "tags": []
   },
   "outputs": [
    {
     "name": "stdout",
     "output_type": "stream",
     "text": [
      "{'encoding': 'ascii', 'confidence': 1.0, 'language': ''}\n"
     ]
    }
   ],
   "source": [
    "# (Optional) Use this code cell for any additional work.\n",
    "with open(\"../input/fatal-police-shootings-in-the-us/PoliceKillingsUS.csv\",'rb') as rawdata:\n",
    "    result = chardet.detect(rawdata.read(10000))\n",
    "\n",
    "# check what the character encoding might be\n",
    "print(result)"
   ]
  },
  {
   "cell_type": "code",
   "execution_count": 8,
   "id": "e58c71ad",
   "metadata": {
    "execution": {
     "iopub.execute_input": "2022-09-13T08:38:55.202490Z",
     "iopub.status.busy": "2022-09-13T08:38:55.201853Z",
     "iopub.status.idle": "2022-09-13T08:38:55.209338Z",
     "shell.execute_reply": "2022-09-13T08:38:55.208510Z"
    },
    "papermill": {
     "duration": 0.01638,
     "end_time": "2022-09-13T08:38:55.211294",
     "exception": false,
     "start_time": "2022-09-13T08:38:55.194914",
     "status": "completed"
    },
    "tags": []
   },
   "outputs": [
    {
     "data": {
      "application/javascript": [
       "parent.postMessage({\"jupyterEvent\": \"custom.exercise_interaction\", \"data\": {\"interactionType\": 3, \"questionType\": 1, \"questionId\": \"2_ReadIn\", \"learnToolsVersion\": \"0.3.4\", \"valueTowardsCompletion\": 0.0, \"failureMessage\": \"\", \"exceptionClass\": \"\", \"trace\": \"\", \"outcomeType\": 4}}, \"*\")"
      ],
      "text/plain": [
       "<IPython.core.display.Javascript object>"
      ]
     },
     "metadata": {},
     "output_type": "display_data"
    },
    {
     "data": {
      "text/markdown": [
       "<span style=\"color:#33cc99\">Solution:</span> \n",
       "```python\n",
       "police_killings = pd.read_csv(\"../input/fatal-police-shootings-in-the-us/PoliceKillingsUS.csv\", encoding='Windows-1252')\n",
       "\n",
       "```"
      ],
      "text/plain": [
       "Solution: \n",
       "```python\n",
       "police_killings = pd.read_csv(\"../input/fatal-police-shootings-in-the-us/PoliceKillingsUS.csv\", encoding='Windows-1252')\n",
       "\n",
       "```"
      ]
     },
     "metadata": {},
     "output_type": "display_data"
    }
   ],
   "source": [
    "# Lines below will give you a hint or solution code\n",
    "#q2.hint()\n",
    "q2.solution()"
   ]
  },
  {
   "cell_type": "markdown",
   "id": "448ae817",
   "metadata": {
    "papermill": {
     "duration": 0.006912,
     "end_time": "2022-09-13T08:38:55.224603",
     "exception": false,
     "start_time": "2022-09-13T08:38:55.217691",
     "status": "completed"
    },
    "tags": []
   },
   "source": [
    "# 3) Saving your files with UTF-8 encoding\n",
    "\n",
    "Save a version of the police killings dataset to CSV with UTF-8 encoding.  Your answer will be marked correct after saving this file.  \n",
    "\n",
    "Note: When using the `to_csv()` method, supply only the name of the file (e.g., `\"my_file.csv\"`).  This saves the file at the filepath `\"/kaggle/working/my_file.csv\"`."
   ]
  },
  {
   "cell_type": "markdown",
   "id": "54aa492c",
   "metadata": {
    "papermill": {
     "duration": 0.005883,
     "end_time": "2022-09-13T08:38:55.236553",
     "exception": false,
     "start_time": "2022-09-13T08:38:55.230670",
     "status": "completed"
    },
    "tags": []
   },
   "source": []
  },
  {
   "cell_type": "code",
   "execution_count": 9,
   "id": "c07ab0ad",
   "metadata": {
    "execution": {
     "iopub.execute_input": "2022-09-13T08:38:55.250733Z",
     "iopub.status.busy": "2022-09-13T08:38:55.249980Z",
     "iopub.status.idle": "2022-09-13T08:38:55.286375Z",
     "shell.execute_reply": "2022-09-13T08:38:55.284825Z"
    },
    "papermill": {
     "duration": 0.045928,
     "end_time": "2022-09-13T08:38:55.288584",
     "exception": false,
     "start_time": "2022-09-13T08:38:55.242656",
     "status": "completed"
    },
    "tags": []
   },
   "outputs": [
    {
     "data": {
      "application/javascript": [
       "parent.postMessage({\"jupyterEvent\": \"custom.exercise_interaction\", \"data\": {\"outcomeType\": 1, \"valueTowardsCompletion\": 0.3333333333333333, \"interactionType\": 1, \"questionType\": 2, \"questionId\": \"3_SaveCSV\", \"learnToolsVersion\": \"0.3.4\", \"failureMessage\": \"\", \"exceptionClass\": \"\", \"trace\": \"\"}}, \"*\")"
      ],
      "text/plain": [
       "<IPython.core.display.Javascript object>"
      ]
     },
     "metadata": {},
     "output_type": "display_data"
    },
    {
     "data": {
      "text/markdown": [
       "<span style=\"color:#33cc33\">Correct</span>"
      ],
      "text/plain": [
       "Correct"
      ]
     },
     "metadata": {},
     "output_type": "display_data"
    }
   ],
   "source": [
    "# TODO: Save the police killings dataset to CSV\n",
    "____\n",
    "police_killings.to_csv(\"my_file.csv\")\n",
    "# Check your answer\n",
    "q3.check()"
   ]
  },
  {
   "cell_type": "code",
   "execution_count": 10,
   "id": "6ed5cf6b",
   "metadata": {
    "execution": {
     "iopub.execute_input": "2022-09-13T08:38:55.308649Z",
     "iopub.status.busy": "2022-09-13T08:38:55.307591Z",
     "iopub.status.idle": "2022-09-13T08:38:55.317640Z",
     "shell.execute_reply": "2022-09-13T08:38:55.316812Z"
    },
    "papermill": {
     "duration": 0.024854,
     "end_time": "2022-09-13T08:38:55.320192",
     "exception": false,
     "start_time": "2022-09-13T08:38:55.295338",
     "status": "completed"
    },
    "tags": []
   },
   "outputs": [
    {
     "data": {
      "application/javascript": [
       "parent.postMessage({\"jupyterEvent\": \"custom.exercise_interaction\", \"data\": {\"interactionType\": 3, \"questionType\": 2, \"questionId\": \"3_SaveCSV\", \"learnToolsVersion\": \"0.3.4\", \"valueTowardsCompletion\": 0.0, \"failureMessage\": \"\", \"exceptionClass\": \"\", \"trace\": \"\", \"outcomeType\": 4}}, \"*\")"
      ],
      "text/plain": [
       "<IPython.core.display.Javascript object>"
      ]
     },
     "metadata": {},
     "output_type": "display_data"
    },
    {
     "data": {
      "text/markdown": [
       "<span style=\"color:#33cc99\">Solution:</span> \n",
       "```python\n",
       "\n",
       "police_killings.to_csv(\"my_file.csv\")\n",
       "\n",
       "```"
      ],
      "text/plain": [
       "Solution: \n",
       "```python\n",
       "\n",
       "police_killings.to_csv(\"my_file.csv\")\n",
       "\n",
       "```"
      ]
     },
     "metadata": {},
     "output_type": "display_data"
    }
   ],
   "source": [
    "# Lines below will give you a hint or solution code\n",
    "#q3.hint()\n",
    "q3.solution()"
   ]
  },
  {
   "cell_type": "markdown",
   "id": "1ff262fc",
   "metadata": {
    "papermill": {
     "duration": 0.006526,
     "end_time": "2022-09-13T08:38:55.333716",
     "exception": false,
     "start_time": "2022-09-13T08:38:55.327190",
     "status": "completed"
    },
    "tags": []
   },
   "source": [
    "# (Optional) More practice\n",
    "\n",
    "Check out [this dataset of files in different character encodings](https://www.kaggle.com/rtatman/character-encoding-examples). Can you read in all the files with their original encodings and them save them out as UTF-8 files?\n",
    "\n",
    "If you have a file that's in UTF-8 but has just a couple of weird-looking characters in it, you can try out the [ftfy module](https://ftfy.readthedocs.io/en/latest/#) and see if it helps. \n",
    "\n",
    "# Keep going\n",
    "\n",
    "In the final lesson, learn how to [**clean up inconsistent text entries**](https://www.kaggle.com/alexisbcook/inconsistent-data-entry) in your dataset."
   ]
  },
  {
   "cell_type": "markdown",
   "id": "63ad77ee",
   "metadata": {
    "papermill": {
     "duration": 0.006761,
     "end_time": "2022-09-13T08:38:55.347416",
     "exception": false,
     "start_time": "2022-09-13T08:38:55.340655",
     "status": "completed"
    },
    "tags": []
   },
   "source": [
    "---\n",
    "\n",
    "\n",
    "\n",
    "\n",
    "*Have questions or comments? Visit the [course discussion forum](https://www.kaggle.com/learn/data-cleaning/discussion) to chat with other learners.*"
   ]
  }
 ],
 "metadata": {
  "kernelspec": {
   "display_name": "Python 3",
   "language": "python",
   "name": "python3"
  },
  "language_info": {
   "codemirror_mode": {
    "name": "ipython",
    "version": 3
   },
   "file_extension": ".py",
   "mimetype": "text/x-python",
   "name": "python",
   "nbconvert_exporter": "python",
   "pygments_lexer": "ipython3",
   "version": "3.7.12"
  },
  "papermill": {
   "default_parameters": {},
   "duration": 9.739123,
   "end_time": "2022-09-13T08:38:55.977292",
   "environment_variables": {},
   "exception": null,
   "input_path": "__notebook__.ipynb",
   "output_path": "__notebook__.ipynb",
   "parameters": {},
   "start_time": "2022-09-13T08:38:46.238169",
   "version": "2.3.4"
  }
 },
 "nbformat": 4,
 "nbformat_minor": 5
}
